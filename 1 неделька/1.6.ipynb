{
 "cells": [
  {
   "cell_type": "code",
   "execution_count": 4,
   "metadata": {},
   "outputs": [
    {
     "data": {
      "text/plain": [
       "4"
      ]
     },
     "execution_count": 4,
     "metadata": {},
     "output_type": "execute_result"
    }
   ],
   "source": [
    "def per1(N, b):\n",
    "    k = 0\n",
    "    l = len(N)\n",
    "    if N[0]=='-':\n",
    "        N = N[1:]\n",
    "        for i in range(0, l-1):\n",
    "            p = int(N[i])\n",
    "            k += p * ( b ** (l - i - 2))\n",
    "        k = (-1) *k    \n",
    "\n",
    "    else:\n",
    "        for i in range(0, l):    \n",
    "            p = int(N[i])\n",
    "            k += p * ( b ** (l - i - 1))     \n",
    "    return k\n",
    "\n",
    "\n",
    "def per2(k, c):\n",
    "    if k == 0:\n",
    "        return \"0\"\n",
    "    \n",
    "    x = \"\"\n",
    "    while k > 0:\n",
    "        t = k % c\n",
    "        x = str(t) + x\n",
    "        k //= c\n",
    "    return x\n",
    "\n",
    "\n",
    "fin = open(r\"C:\\Users\\taisi\\Desktop\\study\\inf\\1 неделька\\текст.txt\", \"r\")\n",
    "x_1 = fin.readline().strip()\n",
    "x_2 = fin.readline().strip()\n",
    "x_3 = fin.readline().strip()\n",
    "x_1 = x_1.split()\n",
    "x_2 = x_2.split()\n",
    "x_3 = x_3.split()\n",
    "array = []\n",
    "C = int(x_3[0])\n",
    "b = x_2[0]\n",
    "for i in range(0, len(x_1)):\n",
    "    '''p = int(x_1[i])'''\n",
    "    array.append(per1(x_1[i], C))\n",
    "k = 0\n",
    "c = 1\n",
    "if b == '+':\n",
    "    for i in range(len(array)):\n",
    "        k += array[i]\n",
    "    res = k\n",
    "if b =='-':\n",
    "    for i in range(len(array)):\n",
    "        k -= array[i]\n",
    "    res = k\n",
    "if b == '*':\n",
    "    for i in range(len(array)):\n",
    "        c *= array[i]\n",
    "    res = c\n",
    "res = per2(res, C)    \n",
    "\n",
    "g = open(r\"C:\\Users\\taisi\\Desktop\\study\\inf\\1 неделька\\output1.txt\", \"w\")\n",
    "g.write(str(res))\n",
    "#мне помогала кураторша с частью кода в начале, по причине файлы почему-то не хотят открываться по простому на моем компе... именно поэтому файл юпитерский\n"
   ]
  }
 ],
 "metadata": {
  "kernelspec": {
   "display_name": "Python 3",
   "language": "python",
   "name": "python3"
  },
  "language_info": {
   "codemirror_mode": {
    "name": "ipython",
    "version": 3
   },
   "file_extension": ".py",
   "mimetype": "text/x-python",
   "name": "python",
   "nbconvert_exporter": "python",
   "pygments_lexer": "ipython3",
   "version": "3.12.5"
  }
 },
 "nbformat": 4,
 "nbformat_minor": 2
}
